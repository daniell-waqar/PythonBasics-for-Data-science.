{
  "metadata": {
    "language_info": {
      "codemirror_mode": {
        "name": "python",
        "version": 3
      },
      "file_extension": ".py",
      "mimetype": "text/x-python",
      "name": "python",
      "nbconvert_exporter": "python",
      "pygments_lexer": "ipython3",
      "version": "3.8"
    },
    "kernelspec": {
      "name": "python",
      "display_name": "Python (Pyodide)",
      "language": "python"
    }
  },
  "nbformat_minor": 4,
  "nbformat": 4,
  "cells": [
    {
      "cell_type": "markdown",
      "source": "Numpy",
      "metadata": {}
    },
    {
      "cell_type": "code",
      "source": "# Numeric Python \n# Alternative to Python List: NumPy Array \n# Calculations over entire arrays\n# Easy and Fast \n# Installation\n# pip3 install numpy",
      "metadata": {
        "trusted": true
      },
      "execution_count": 5,
      "outputs": []
    },
    {
      "cell_type": "code",
      "source": "# Import numpy\nimport numpy as np\nheight_in = [71,73,84,22,45]\n# Create a numpy array from height_in: np_height_in\nnp_height_in = np.array(height_in)\n# Print out np_height_in\nprint(np_height_in)\n\n# Convert np_height_in to m: np_height_m\nnp_height_m = np_height_in*0.0254\n\n# Print np_height_m\nprint(np_height_m)\n",
      "metadata": {
        "trusted": true
      },
      "execution_count": 7,
      "outputs": [
        {
          "name": "stdout",
          "text": "[71 73 84 22 45]\n[1.8034 1.8542 2.1336 0.5588 1.143 ]\n",
          "output_type": "stream"
        }
      ]
    },
    {
      "cell_type": "code",
      "source": "weight_lb = [180, 215, 210, 210, 188]\n# Import numpy\nimport numpy as np\n\n\n# Create array from height_in with metric units: np_height_m\nnp_height_m = np.array(height_in) * 0.0254\n\n# Create array from weight_lb with metric units: np_weight_kg\nnp_weight_kg = np.array(weight_lb) * 0.453592\n# Calculate the BMI: bmi\n\nbmi = np_weight_kg/np_height_m**2\n\n# Print out bmi\nprint(bmi)",
      "metadata": {
        "trusted": true
      },
      "execution_count": 9,
      "outputs": [
        {
          "name": "stdout",
          "text": "[ 25.10462629  28.36551629  20.9246728  305.05060184  65.27257934]\n",
          "output_type": "stream"
        }
      ]
    },
    {
      "cell_type": "code",
      "source": "# Import numpy\nimport numpy as np\n\n# Calculate the BMI: bmi\nnp_height_m = np.array(height_in) * 0.0254\nnp_weight_kg = np.array(weight_lb) * 0.453592\nbmi = np_weight_kg / np_height_m ** 2\n\n# Create the numpy array with name light \n# if the corresponding baseball player's bmi is below 21\n\nlight = bmi < 21\n\n\n# Print out light\nprint(light)\n\n# Print out BMIs of all baseball players whose BMI is below 21\n\nprint(bmi[light])",
      "metadata": {
        "trusted": true
      },
      "execution_count": 10,
      "outputs": [
        {
          "name": "stdout",
          "text": "[False False  True False False]\n[20.9246728]\n",
          "output_type": "stream"
        }
      ]
    },
    {
      "cell_type": "code",
      "source": "# Import numpy\nimport numpy as np\n\n# Store weight and height lists as numpy arrays\nnp_weight_lb = np.array(weight_lb)\nnp_height_in = np.array(height_in)\n\n# Print out the weight at index 4 in numpy array\nprint(np_weight_lb[4])\n\n# Print out sub-array of np_height_in: index 1 up to and including index 4 in numpy array\nprint(np_height_in[1:5])",
      "metadata": {
        "trusted": true
      },
      "execution_count": 11,
      "outputs": [
        {
          "name": "stdout",
          "text": "188\n[73 84 22 45]\n",
          "output_type": "stream"
        }
      ]
    },
    {
      "cell_type": "markdown",
      "source": "2D Numpy Array",
      "metadata": {}
    },
    {
      "cell_type": "code",
      "source": "# Import numpy\nimport numpy as np\n\n# Create baseball, a list of lists\nbaseball = [[180, 78.4],\n            [215, 102.7],\n            [210, 98.5],\n            [188, 75.2]]\n\n# Create a 2D numpy array from baseball: np_baseball\n\nnp_baseball  = np.array(baseball)\n\n# Print out the type of np_baseball\nprint(type(np_baseball))\n\n# Print out the shape of np_baseball\nprint(np_baseball.shape)",
      "metadata": {
        "trusted": true
      },
      "execution_count": 13,
      "outputs": [
        {
          "name": "stdout",
          "text": "<class 'numpy.ndarray'>\n(4, 2)\n",
          "output_type": "stream"
        }
      ]
    },
    {
      "cell_type": "code",
      "source": "\n# Import numpy package\nimport numpy as np\n\n# Create np_baseball \nnp_baseball = np.array(baseball)\n\n# Print out the 4th row of np_baseball\nprint(np_baseball[3])\n\n# Select the entire second column of np_baseball: np_weight_lb\nnp_weight_lb = np_baseball[:, 1]\nprint(np_weight_lb)\n\n# Print out height of 3rd player\nprint(np_baseball[2][0])",
      "metadata": {
        "trusted": true
      },
      "execution_count": 20,
      "outputs": [
        {
          "name": "stdout",
          "text": "[188.   75.2]\n[215.  102.7]\n210.0\n",
          "output_type": "stream"
        }
      ]
    },
    {
      "cell_type": "code",
      "source": "import numpy as np\nnp_mat = np.array([[1, 2],\n                   [3, 4],\n                   [5, 6]])\nprint(np_mat * 2)\nprint(\"--------------\")\nprint(np_mat + np.array([10, 10]))\nprint(\"--------------\")\n\nprint(np_mat + np_mat)\n\n",
      "metadata": {
        "trusted": true
      },
      "execution_count": 29,
      "outputs": [
        {
          "name": "stdout",
          "text": "[[ 2  4]\n [ 6  8]\n [10 12]]\n--------------\n[[11 12]\n [13 14]\n [15 16]]\n--------------\n[[ 2  4]\n [ 6  8]\n [10 12]]\n",
          "output_type": "stream"
        }
      ]
    },
    {
      "cell_type": "code",
      "source": "",
      "metadata": {},
      "execution_count": null,
      "outputs": []
    }
  ]
}