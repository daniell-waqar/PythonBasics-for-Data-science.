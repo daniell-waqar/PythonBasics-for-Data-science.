{
  "metadata": {
    "language_info": {
      "codemirror_mode": {
        "name": "python",
        "version": 3
      },
      "file_extension": ".py",
      "mimetype": "text/x-python",
      "name": "python",
      "nbconvert_exporter": "python",
      "pygments_lexer": "ipython3",
      "version": "3.8"
    },
    "kernelspec": {
      "name": "python",
      "display_name": "Python (Pyodide)",
      "language": "python"
    }
  },
  "nbformat_minor": 4,
  "nbformat": 4,
  "cells": [
    {
      "cell_type": "markdown",
      "source": "List",
      "metadata": {}
    },
    {
      "cell_type": "code",
      "source": "#--> List is the name of collection of Values\n#--> List contain different data types",
      "metadata": {
        "trusted": true
      },
      "execution_count": 1,
      "outputs": []
    },
    {
      "cell_type": "code",
      "source": "hall = 11.25\nkit = 18.0\nliv = 20.0\nbed = 10.75\nbath = 9.50\n\n# Create list areas\nareas = [hall, kit, liv, bed, bath]\n\n# Print areas\nprint(areas)",
      "metadata": {
        "trusted": true
      },
      "execution_count": 2,
      "outputs": [
        {
          "name": "stdout",
          "text": "[11.25, 18.0, 20.0, 10.75, 9.5]\n",
          "output_type": "stream"
        }
      ]
    },
    {
      "cell_type": "code",
      "source": "hall = 11.25\nkit = 18.0\nliv = 20.0\nbed = 10.75\nbath = 9.50\n\nareas = [\"hallway\", hall , \"kitchen\", kit, \"living room\",liv,\n\"bedroom\" , bed , \"bathroom\", bath]\n# Print areas\nprint(areas)",
      "metadata": {
        "trusted": true
      },
      "execution_count": 3,
      "outputs": [
        {
          "name": "stdout",
          "text": "['hallway', 11.25, 'kitchen', 18.0, 'living room', 20.0, 'bedroom', 10.75, 'bathroom', 9.5]\n",
          "output_type": "stream"
        }
      ]
    },
    {
      "cell_type": "markdown",
      "source": "List of list (Sublist)",
      "metadata": {}
    },
    {
      "cell_type": "code",
      "source": "hall = 11.25\nkit = 18.0\nliv = 20.0\nbed = 10.75\nbath = 9.50\nhouse = [[\"hallway\" , hall],\n        [\"kitchen \", kit],\n        [\"living room\" , liv],\n        [\"bedroom\" , bed],\n        [\"bathroom\" , bath]]\n                            \n# Print out house\nprint(house)\n\n# Print out the type of house\nprint(type(house))",
      "metadata": {
        "trusted": true
      },
      "execution_count": 4,
      "outputs": [
        {
          "name": "stdout",
          "text": "[['hallway', 11.25], ['kitchen ', 18.0], ['living room', 20.0], ['bedroom', 10.75], ['bathroom', 9.5]]\n<class 'list'>\n",
          "output_type": "stream"
        }
      ]
    },
    {
      "cell_type": "markdown",
      "source": "Once you have learnt how to create a list then you should know how to access an element from the list. python use index for doing this.index start from 0",
      "metadata": {}
    },
    {
      "cell_type": "code",
      "source": "Mylistt = [\"Waqar\", 22, True]\nMylistt[0]",
      "metadata": {
        "trusted": true
      },
      "execution_count": 5,
      "outputs": [
        {
          "execution_count": 5,
          "output_type": "execute_result",
          "data": {
            "text/plain": "'Waqar'"
          },
          "metadata": {}
        }
      ]
    },
    {
      "cell_type": "code",
      "source": "Mylistt[-2]",
      "metadata": {
        "trusted": true
      },
      "execution_count": 6,
      "outputs": [
        {
          "execution_count": 6,
          "output_type": "execute_result",
          "data": {
            "text/plain": "22"
          },
          "metadata": {}
        }
      ]
    },
    {
      "cell_type": "code",
      "source": "Mylistt[2]",
      "metadata": {
        "trusted": true
      },
      "execution_count": 7,
      "outputs": [
        {
          "execution_count": 7,
          "output_type": "execute_result",
          "data": {
            "text/plain": "True"
          },
          "metadata": {}
        }
      ]
    },
    {
      "cell_type": "code",
      "source": "#Using a combination of list subsetting and variable assignment, create a new variable, eat_sleep_area, that contains\n#the sum of the area of the kitchen and the area of the bedroom.\n\n# Sum of kitchen and bedroom area: eat_sleep_area\neat_sleep_area = areas[3] + areas[7]\n# Print the variable eat_sleep_area\nprint(eat_sleep_area)",
      "metadata": {
        "trusted": true
      },
      "execution_count": 10,
      "outputs": [
        {
          "name": "stdout",
          "text": "28.75\n",
          "output_type": "stream"
        }
      ]
    },
    {
      "cell_type": "markdown",
      "source": "If you want to access multiple values you can do this using list slicing by specifying range of the values",
      "metadata": {}
    },
    {
      "cell_type": "code",
      "source": "#my_list[start:end]   end is exclusive",
      "metadata": {
        "trusted": true
      },
      "execution_count": 12,
      "outputs": []
    },
    {
      "cell_type": "code",
      "source": "# Create the areas list\nareas = [\"hallway\", 11.25, \"kitchen\", 18.0, \"living room\", 20.0, \"bedroom\", 10.75, \"bathroom\", 9.50]\n\n# Use slicing to create downstairs\ndownstairs = areas[0:6]\n\n# Use slicing to create upstairs\nupstairs = areas[6:10]\n\n# Print out downstairs and upstairs\nprint(downstairs)\nprint(upstairs)",
      "metadata": {
        "trusted": true
      },
      "execution_count": 13,
      "outputs": [
        {
          "name": "stdout",
          "text": "['hallway', 11.25, 'kitchen', 18.0, 'living room', 20.0]\n['bedroom', 10.75, 'bathroom', 9.5]\n",
          "output_type": "stream"
        }
      ]
    },
    {
      "cell_type": "code",
      "source": "\n# Alternative slicing to create downstairs\ndownstairs = areas[:6]\n\n# Alternative slicing to create upstairs\nupstairs = areas[6:]\n\nprint(downstairs)\nprint(upstairs)",
      "metadata": {
        "trusted": true
      },
      "execution_count": 15,
      "outputs": [
        {
          "name": "stdout",
          "text": "['hallway', 11.25, 'kitchen', 18.0, 'living room', 20.0]\n['bedroom', 10.75, 'bathroom', 9.5]\n",
          "output_type": "stream"
        }
      ]
    },
    {
      "cell_type": "markdown",
      "source": "Manipulating list",
      "metadata": {}
    },
    {
      "cell_type": "code",
      "source": "# Create the areas list\nareas = [\"hallway\", 11.25, \"kitchen\", 18.0, \"living room\", 20.0, \"bedroom\", 10.75, \"bathroom\", 9.50]\n\n# Update the bathroom area\n\nareas[9] = 10.5\n\n# Change \"living room\" to \"chill zone\"\n\nareas[4] = \"chill zone\"",
      "metadata": {
        "trusted": true
      },
      "execution_count": 16,
      "outputs": []
    },
    {
      "cell_type": "code",
      "source": "# Create the areas list and make some changes\nareas = [\"hallway\", 11.25, \"kitchen\", 18.0, \"chill zone\", 20.0,\n         \"bedroom\", 10.75, \"bathroom\", 10.50]\n\n# Add poolhouse data to areas, new list is areas_1\nareas_1 = areas + [\"poolhouse\", 24.5]\n\n# Add garage data to areas_1, new list is areas_2\n\nareas_2 = areas_1 + [\"garage\" , 15.45]\n",
      "metadata": {
        "trusted": true
      },
      "execution_count": 17,
      "outputs": []
    },
    {
      "cell_type": "code",
      "source": "# Create list areas\nareas = [11.25, 19.0, 20.0, 10.75, 9.50]\n\n# Create areas_copy\nareas_copy = list(areas)\n\n# Change areas_copy\nareas_copy[0] = 14.0\n\n# Print areas\nprint(areas)   # No effect on areas list ",
      "metadata": {
        "trusted": true
      },
      "execution_count": 18,
      "outputs": [
        {
          "name": "stdout",
          "text": "[11.25, 19.0, 20.0, 10.75, 9.5]\n",
          "output_type": "stream"
        }
      ]
    },
    {
      "cell_type": "code",
      "source": "",
      "metadata": {},
      "execution_count": null,
      "outputs": []
    }
  ]
}