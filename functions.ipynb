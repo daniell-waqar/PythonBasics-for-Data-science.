{
  "metadata": {
    "language_info": {
      "codemirror_mode": {
        "name": "python",
        "version": 3
      },
      "file_extension": ".py",
      "mimetype": "text/x-python",
      "name": "python",
      "nbconvert_exporter": "python",
      "pygments_lexer": "ipython3",
      "version": "3.8"
    },
    "kernelspec": {
      "name": "python",
      "display_name": "Python (Pyodide)",
      "language": "python"
    }
  },
  "nbformat_minor": 4,
  "nbformat": 4,
  "cells": [
    {
      "cell_type": "markdown",
      "source": "Functions",
      "metadata": {}
    },
    {
      "cell_type": "code",
      "source": "# --> piece of reusable code",
      "metadata": {
        "trusted": true
      },
      "execution_count": 1,
      "outputs": []
    },
    {
      "cell_type": "code",
      "source": "def summ(a,b):\n    result = a+b\n    return result\n\nprint(summ(2,3))\nprint(summ(2,10))",
      "metadata": {
        "trusted": true
      },
      "execution_count": 3,
      "outputs": [
        {
          "name": "stdout",
          "text": "5\n12\n",
          "output_type": "stream"
        }
      ]
    },
    {
      "cell_type": "code",
      "source": "# Create variables var1 and var2\nvar1 = \"Waqar\"\nvar2 = True\n\n# Print out type of var1\nprint(type(var1))\n\n# Print out length of var1\nprint(len(var1))\n\n# Convert var2 to an integer: out2\nout2 = int(var2)",
      "metadata": {
        "trusted": true
      },
      "execution_count": 4,
      "outputs": [
        {
          "name": "stdout",
          "text": "<class 'str'>\n5\n",
          "output_type": "stream"
        }
      ]
    },
    {
      "cell_type": "code",
      "source": "# Create lists first and second\nfirst = [3,9,1,6]\nsecond = [7,8,2,4]\n\n# Paste together first and second: full\n\nfull = first + second\n\n# Sort full in descending order: full_sorted\n\nfull_sorted = sorted(full, reverse=True)\n# Print out full_sorted\nprint(full_sorted)",
      "metadata": {
        "trusted": true
      },
      "execution_count": 6,
      "outputs": [
        {
          "name": "stdout",
          "text": "[9, 8, 7, 6, 4, 3, 2, 1]\n",
          "output_type": "stream"
        }
      ]
    },
    {
      "cell_type": "markdown",
      "source": "Methods",
      "metadata": {}
    },
    {
      "cell_type": "code",
      "source": "# --> Functions that belong to objects",
      "metadata": {},
      "execution_count": null,
      "outputs": []
    },
    {
      "cell_type": "code",
      "source": "# string to experiment with: place\nplace = \"university\"\n# Use upper() on place: place_up\nplace_up = place.upper()\n# Print out place and place_up\nprint(place)\nprint(place_up)\n\n# Print out the number of o's in place\nprint(place.count('o'))",
      "metadata": {
        "trusted": true
      },
      "execution_count": 9,
      "outputs": [
        {
          "name": "stdout",
          "text": "university\nUNIVERSITY\n0\n",
          "output_type": "stream"
        }
      ]
    },
    {
      "cell_type": "code",
      "source": "# Create list areas\nareas = [11.25, 18.0, 20.0, 10.75, 9.50]\n\n# Use append twice to add the size of poolhouse  and garage \nareas.append(24.5)\nareas.append(15.45)\n\n# Print out areas\nprint(areas)\n\n# Reverse the orders of the elements in areas\nareas.reverse()\n# Print out areas\nprint(areas)",
      "metadata": {
        "trusted": true
      },
      "execution_count": 10,
      "outputs": [
        {
          "name": "stdout",
          "text": "[11.25, 18.0, 20.0, 10.75, 9.5, 24.5, 15.45]\n[15.45, 24.5, 9.5, 10.75, 20.0, 18.0, 11.25]\n",
          "output_type": "stream"
        }
      ]
    },
    {
      "cell_type": "markdown",
      "source": "Packages: \nDirectory of Python Scripts , Each script = module...NumPy\nMatplotlib\nscikit-learn",
      "metadata": {}
    },
    {
      "cell_type": "code",
      "source": "# radius\nr = 0.43\n\n# Import the math package\nimport math\n\n# Calculate C\nC = 2*math.pi*r\n\n# Calculate A\nA = math.pi*r**2\n\n\nprint(\"Area : \", A)\nprint(\"Circumference : \",C)",
      "metadata": {
        "trusted": true
      },
      "execution_count": 11,
      "outputs": [
        {
          "name": "stdout",
          "text": "Area :  0.5808804816487527\nCircumference :  2.701769682087222\n",
          "output_type": "stream"
        }
      ]
    },
    {
      "cell_type": "code",
      "source": "# radius\nr = 192500\n\n# Import radians function of math package\nfrom math import radians\n\n# Travel distance of Moon over 12 degrees. Store in dist.\ndist = r * radians(12)\n\n# Print out dist\nprint(dist)",
      "metadata": {
        "trusted": true
      },
      "execution_count": 12,
      "outputs": [
        {
          "name": "stdout",
          "text": "40317.10572106901\n",
          "output_type": "stream"
        }
      ]
    },
    {
      "cell_type": "code",
      "source": "",
      "metadata": {},
      "execution_count": null,
      "outputs": []
    }
  ]
}